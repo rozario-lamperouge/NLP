{
  "nbformat": 4,
  "nbformat_minor": 0,
  "metadata": {
    "colab": {
      "name": "Python_Crash_Course.ipynb",
      "provenance": [],
      "authorship_tag": "ABX9TyMMBa9lPW3SibXwHZFe1EKR",
      "include_colab_link": true
    },
    "kernelspec": {
      "name": "python3",
      "display_name": "Python 3"
    },
    "language_info": {
      "name": "python"
    }
  },
  "cells": [
    {
      "cell_type": "markdown",
      "metadata": {
        "id": "view-in-github",
        "colab_type": "text"
      },
      "source": [
        "<a href=\"https://colab.research.google.com/github/rozario-lamperouge/NLP/blob/master/Python_Crash_Course.ipynb\" target=\"_parent\"><img src=\"https://colab.research.google.com/assets/colab-badge.svg\" alt=\"Open In Colab\"/></a>"
      ]
    },
    {
      "cell_type": "markdown",
      "metadata": {
        "id": "HTT8LQc9quuc"
      },
      "source": [
        "## **Hello World Program**\n"
      ]
    },
    {
      "cell_type": "code",
      "metadata": {
        "colab": {
          "base_uri": "https://localhost:8080/"
        },
        "id": "nEQVB163pqjk",
        "outputId": "c41ef8c2-1312-4fbc-974d-2886487ec98c"
      },
      "source": [
        "print(\"Hello World!!!!\")"
      ],
      "execution_count": null,
      "outputs": [
        {
          "output_type": "stream",
          "text": [
            "Hello World!!!!\n"
          ],
          "name": "stdout"
        }
      ]
    },
    {
      "cell_type": "markdown",
      "metadata": {
        "id": "yNtcCbdHq0Z4"
      },
      "source": [
        "## **Variables**"
      ]
    },
    {
      "cell_type": "code",
      "metadata": {
        "colab": {
          "base_uri": "https://localhost:8080/"
        },
        "id": "Fzuqdqh9qf0M",
        "outputId": "f910b0f3-8dbb-408d-dcbb-082853fb35bf"
      },
      "source": [
        "pi = 3.14\n",
        "print(pi)"
      ],
      "execution_count": null,
      "outputs": [
        {
          "output_type": "stream",
          "text": [
            "3.14\n"
          ],
          "name": "stdout"
        }
      ]
    },
    {
      "cell_type": "markdown",
      "metadata": {
        "id": "x4Z6-Xc9rJjC"
      },
      "source": [
        "## **DataTypes**"
      ]
    },
    {
      "cell_type": "code",
      "metadata": {
        "id": "TuI4RP9JrO-3"
      },
      "source": [
        "a = 10 \n",
        "b = 1.2\n",
        "c = \"Richard123;\"\n",
        "d = True\n",
        "e = False"
      ],
      "execution_count": null,
      "outputs": []
    },
    {
      "cell_type": "code",
      "metadata": {
        "colab": {
          "base_uri": "https://localhost:8080/"
        },
        "id": "26KFlTRUs5cX",
        "outputId": "a97b11f0-12ad-414e-9a78-178cfe95bcf3"
      },
      "source": [
        "print(type(a))\n",
        "print(type(b))\n",
        "print(type(c))\n",
        "print(type(d))\n",
        "print(type(e))"
      ],
      "execution_count": null,
      "outputs": [
        {
          "output_type": "stream",
          "text": [
            "<class 'int'>\n",
            "<class 'float'>\n",
            "<class 'str'>\n",
            "<class 'bool'>\n",
            "<class 'bool'>\n"
          ],
          "name": "stdout"
        }
      ]
    },
    {
      "cell_type": "markdown",
      "metadata": {
        "id": "B_nszvhtu6oT"
      },
      "source": [
        "## **Operators**"
      ]
    },
    {
      "cell_type": "code",
      "metadata": {
        "colab": {
          "base_uri": "https://localhost:8080/"
        },
        "id": "cEU-iVIgu6MV",
        "outputId": "67c1aae2-6419-45a7-d7f2-ff00eb0282bf"
      },
      "source": [
        "a = 10\n",
        "b = 20\n",
        "\n",
        "print(a + b)\n",
        "print(a - b)\n",
        "print(a * b)\n",
        "print(a / b)\n",
        "print(a // b)\n",
        "print(a % b)"
      ],
      "execution_count": null,
      "outputs": [
        {
          "output_type": "stream",
          "text": [
            "30\n",
            "-10\n",
            "200\n",
            "0.5\n",
            "0\n",
            "10\n"
          ],
          "name": "stdout"
        }
      ]
    },
    {
      "cell_type": "code",
      "metadata": {
        "colab": {
          "base_uri": "https://localhost:8080/"
        },
        "id": "RP7wNwwzxKWG",
        "outputId": "69e01704-9390-472e-e5fe-6b8354584aff"
      },
      "source": [
        "print(a > b)\n",
        "print(b > a)\n",
        "print(a == b)\n",
        "print(a != b)\n",
        "print(a >= b)\n",
        "print(a <= b)"
      ],
      "execution_count": null,
      "outputs": [
        {
          "output_type": "stream",
          "text": [
            "False\n",
            "True\n",
            "False\n",
            "True\n",
            "False\n",
            "True\n"
          ],
          "name": "stdout"
        }
      ]
    },
    {
      "cell_type": "markdown",
      "metadata": {
        "id": "y6VbgHb5yS6V"
      },
      "source": [
        "## **Comments**"
      ]
    },
    {
      "cell_type": "code",
      "metadata": {
        "colab": {
          "base_uri": "https://localhost:8080/",
          "height": 52
        },
        "id": "XkBOvd9_yWud",
        "outputId": "b3daa508-1abe-4ada-9d2b-4d3041933d30"
      },
      "source": [
        "# this is an print statement\n",
        "\n",
        "print(\"Hello\")\n",
        "\n",
        "\"\"\"this\n",
        "is \n",
        "an\n",
        "multi\n",
        "line\n",
        "comment\"\"\""
      ],
      "execution_count": null,
      "outputs": [
        {
          "output_type": "stream",
          "text": [
            "Hello\n"
          ],
          "name": "stdout"
        },
        {
          "output_type": "execute_result",
          "data": {
            "application/vnd.google.colaboratory.intrinsic+json": {
              "type": "string"
            },
            "text/plain": [
              "'this\\nis \\nan\\nmulti\\nline\\ncomment'"
            ]
          },
          "metadata": {
            "tags": []
          },
          "execution_count": 33
        }
      ]
    },
    {
      "cell_type": "markdown",
      "metadata": {
        "id": "ZPO2Ng7Gz0wM"
      },
      "source": [
        "## **Simple Practice Program**"
      ]
    },
    {
      "cell_type": "code",
      "metadata": {
        "colab": {
          "base_uri": "https://localhost:8080/"
        },
        "id": "59iJ_-86z58n",
        "outputId": "789447ad-284a-4bd9-e90f-453e8ac227a1"
      },
      "source": [
        "# Addition of two num\n",
        "\n",
        "num1 = int(input(\"Enter a Number:\"))\n",
        "num2 = int(input(\"Enter another Number:\"))\n",
        "\n",
        "total = num1 + num2\n",
        "print(\"the total is :\",total)"
      ],
      "execution_count": null,
      "outputs": [
        {
          "output_type": "stream",
          "text": [
            "Enter a Number:30\n",
            "Enter another Number:60\n",
            "the total is : 90\n"
          ],
          "name": "stdout"
        }
      ]
    },
    {
      "cell_type": "markdown",
      "metadata": {
        "id": "XSI4P9wm5thX"
      },
      "source": [
        "## **If Conditions**"
      ]
    },
    {
      "cell_type": "code",
      "metadata": {
        "colab": {
          "base_uri": "https://localhost:8080/"
        },
        "id": "lXUWGBch5wft",
        "outputId": "54be7f01-4232-4dc6-aefb-0955f2111d67"
      },
      "source": [
        "age = int(input(\"Enter your age :\"))\n",
        "\n",
        "if (age > 18):\n",
        "  print(\"You are a major\")\n",
        "else:\n",
        "  print(\"Get Out Kiddo!\")"
      ],
      "execution_count": null,
      "outputs": [
        {
          "output_type": "stream",
          "text": [
            "Enter your age :10\n",
            "Get Out Kiddo!\n"
          ],
          "name": "stdout"
        }
      ]
    },
    {
      "cell_type": "code",
      "metadata": {
        "colab": {
          "base_uri": "https://localhost:8080/",
          "height": 606
        },
        "id": "YtNlg-IA78SJ",
        "outputId": "0d6fe585-22de-45d9-e059-eeb71f80eea3"
      },
      "source": [
        "while True:  \n",
        "  user = input(\"Say Somthing idiot!\")\n",
        "  user = user.lower()\n",
        "\n",
        "  if (user == \"hello\" or user == \"hi\" or user == \"hey\"):\n",
        "    print(\"hello, how are you?\")\n",
        "\n",
        "  elif (user == \"how are you\" or user == \"are u fine\"):\n",
        "    print(\"im good, how are you?\")\n",
        "\n",
        "  elif (user == \"bye\" or user == \"see you later\" or user == \"goodbye\"):\n",
        "    print(\"yeah get out, you're boring!\")\n",
        "\n",
        "  elif (user == \"hi computer\"):\n",
        "    print(\"heyy idiot\")\n",
        "\n",
        "  else:\n",
        "    print(\"Invalid input!!!\")"
      ],
      "execution_count": null,
      "outputs": [
        {
          "output_type": "stream",
          "text": [
            "Say Somthing idiot!hELLo\n",
            "hello, how are you?\n"
          ],
          "name": "stdout"
        },
        {
          "output_type": "error",
          "ename": "KeyboardInterrupt",
          "evalue": "ignored",
          "traceback": [
            "\u001b[0;31m---------------------------------------------------------------------------\u001b[0m",
            "\u001b[0;31mKeyboardInterrupt\u001b[0m                         Traceback (most recent call last)",
            "\u001b[0;32m/usr/local/lib/python3.7/dist-packages/ipykernel/kernelbase.py\u001b[0m in \u001b[0;36m_input_request\u001b[0;34m(self, prompt, ident, parent, password)\u001b[0m\n\u001b[1;32m    728\u001b[0m             \u001b[0;32mtry\u001b[0m\u001b[0;34m:\u001b[0m\u001b[0;34m\u001b[0m\u001b[0;34m\u001b[0m\u001b[0m\n\u001b[0;32m--> 729\u001b[0;31m                 \u001b[0mident\u001b[0m\u001b[0;34m,\u001b[0m \u001b[0mreply\u001b[0m \u001b[0;34m=\u001b[0m \u001b[0mself\u001b[0m\u001b[0;34m.\u001b[0m\u001b[0msession\u001b[0m\u001b[0;34m.\u001b[0m\u001b[0mrecv\u001b[0m\u001b[0;34m(\u001b[0m\u001b[0mself\u001b[0m\u001b[0;34m.\u001b[0m\u001b[0mstdin_socket\u001b[0m\u001b[0;34m,\u001b[0m \u001b[0;36m0\u001b[0m\u001b[0;34m)\u001b[0m\u001b[0;34m\u001b[0m\u001b[0;34m\u001b[0m\u001b[0m\n\u001b[0m\u001b[1;32m    730\u001b[0m             \u001b[0;32mexcept\u001b[0m \u001b[0mException\u001b[0m\u001b[0;34m:\u001b[0m\u001b[0;34m\u001b[0m\u001b[0;34m\u001b[0m\u001b[0m\n",
            "\u001b[0;32m/usr/local/lib/python3.7/dist-packages/jupyter_client/session.py\u001b[0m in \u001b[0;36mrecv\u001b[0;34m(self, socket, mode, content, copy)\u001b[0m\n\u001b[1;32m    802\u001b[0m         \u001b[0;32mtry\u001b[0m\u001b[0;34m:\u001b[0m\u001b[0;34m\u001b[0m\u001b[0;34m\u001b[0m\u001b[0m\n\u001b[0;32m--> 803\u001b[0;31m             \u001b[0mmsg_list\u001b[0m \u001b[0;34m=\u001b[0m \u001b[0msocket\u001b[0m\u001b[0;34m.\u001b[0m\u001b[0mrecv_multipart\u001b[0m\u001b[0;34m(\u001b[0m\u001b[0mmode\u001b[0m\u001b[0;34m,\u001b[0m \u001b[0mcopy\u001b[0m\u001b[0;34m=\u001b[0m\u001b[0mcopy\u001b[0m\u001b[0;34m)\u001b[0m\u001b[0;34m\u001b[0m\u001b[0;34m\u001b[0m\u001b[0m\n\u001b[0m\u001b[1;32m    804\u001b[0m         \u001b[0;32mexcept\u001b[0m \u001b[0mzmq\u001b[0m\u001b[0;34m.\u001b[0m\u001b[0mZMQError\u001b[0m \u001b[0;32mas\u001b[0m \u001b[0me\u001b[0m\u001b[0;34m:\u001b[0m\u001b[0;34m\u001b[0m\u001b[0;34m\u001b[0m\u001b[0m\n",
            "\u001b[0;32m/usr/local/lib/python3.7/dist-packages/zmq/sugar/socket.py\u001b[0m in \u001b[0;36mrecv_multipart\u001b[0;34m(self, flags, copy, track)\u001b[0m\n\u001b[1;32m    582\u001b[0m         \"\"\"\n\u001b[0;32m--> 583\u001b[0;31m         \u001b[0mparts\u001b[0m \u001b[0;34m=\u001b[0m \u001b[0;34m[\u001b[0m\u001b[0mself\u001b[0m\u001b[0;34m.\u001b[0m\u001b[0mrecv\u001b[0m\u001b[0;34m(\u001b[0m\u001b[0mflags\u001b[0m\u001b[0;34m,\u001b[0m \u001b[0mcopy\u001b[0m\u001b[0;34m=\u001b[0m\u001b[0mcopy\u001b[0m\u001b[0;34m,\u001b[0m \u001b[0mtrack\u001b[0m\u001b[0;34m=\u001b[0m\u001b[0mtrack\u001b[0m\u001b[0;34m)\u001b[0m\u001b[0;34m]\u001b[0m\u001b[0;34m\u001b[0m\u001b[0;34m\u001b[0m\u001b[0m\n\u001b[0m\u001b[1;32m    584\u001b[0m         \u001b[0;31m# have first part already, only loop while more to receive\u001b[0m\u001b[0;34m\u001b[0m\u001b[0;34m\u001b[0m\u001b[0;34m\u001b[0m\u001b[0m\n",
            "\u001b[0;32mzmq/backend/cython/socket.pyx\u001b[0m in \u001b[0;36mzmq.backend.cython.socket.Socket.recv\u001b[0;34m()\u001b[0m\n",
            "\u001b[0;32mzmq/backend/cython/socket.pyx\u001b[0m in \u001b[0;36mzmq.backend.cython.socket.Socket.recv\u001b[0;34m()\u001b[0m\n",
            "\u001b[0;32mzmq/backend/cython/socket.pyx\u001b[0m in \u001b[0;36mzmq.backend.cython.socket._recv_copy\u001b[0;34m()\u001b[0m\n",
            "\u001b[0;32m/usr/local/lib/python3.7/dist-packages/zmq/backend/cython/checkrc.pxd\u001b[0m in \u001b[0;36mzmq.backend.cython.checkrc._check_rc\u001b[0;34m()\u001b[0m\n",
            "\u001b[0;31mKeyboardInterrupt\u001b[0m: ",
            "\nDuring handling of the above exception, another exception occurred:\n",
            "\u001b[0;31mKeyboardInterrupt\u001b[0m                         Traceback (most recent call last)",
            "\u001b[0;32m<ipython-input-66-bf13cd23f2f2>\u001b[0m in \u001b[0;36m<module>\u001b[0;34m()\u001b[0m\n\u001b[1;32m      1\u001b[0m \u001b[0;32mwhile\u001b[0m \u001b[0;32mTrue\u001b[0m\u001b[0;34m:\u001b[0m\u001b[0;34m\u001b[0m\u001b[0;34m\u001b[0m\u001b[0m\n\u001b[0;32m----> 2\u001b[0;31m   \u001b[0muser\u001b[0m \u001b[0;34m=\u001b[0m \u001b[0minput\u001b[0m\u001b[0;34m(\u001b[0m\u001b[0;34m\"Say Somthing idiot!\"\u001b[0m\u001b[0;34m)\u001b[0m\u001b[0;34m\u001b[0m\u001b[0;34m\u001b[0m\u001b[0m\n\u001b[0m\u001b[1;32m      3\u001b[0m   \u001b[0muser\u001b[0m \u001b[0;34m=\u001b[0m \u001b[0muser\u001b[0m\u001b[0;34m.\u001b[0m\u001b[0mlower\u001b[0m\u001b[0;34m(\u001b[0m\u001b[0;34m)\u001b[0m\u001b[0;34m\u001b[0m\u001b[0;34m\u001b[0m\u001b[0m\n\u001b[1;32m      4\u001b[0m \u001b[0;34m\u001b[0m\u001b[0m\n\u001b[1;32m      5\u001b[0m   \u001b[0;32mif\u001b[0m \u001b[0;34m(\u001b[0m\u001b[0muser\u001b[0m \u001b[0;34m==\u001b[0m \u001b[0;34m\"hello\"\u001b[0m \u001b[0;32mor\u001b[0m \u001b[0muser\u001b[0m \u001b[0;34m==\u001b[0m \u001b[0;34m\"hi\"\u001b[0m \u001b[0;32mor\u001b[0m \u001b[0muser\u001b[0m \u001b[0;34m==\u001b[0m \u001b[0;34m\"hey\"\u001b[0m\u001b[0;34m)\u001b[0m\u001b[0;34m:\u001b[0m\u001b[0;34m\u001b[0m\u001b[0;34m\u001b[0m\u001b[0m\n",
            "\u001b[0;32m/usr/local/lib/python3.7/dist-packages/ipykernel/kernelbase.py\u001b[0m in \u001b[0;36mraw_input\u001b[0;34m(self, prompt)\u001b[0m\n\u001b[1;32m    702\u001b[0m             \u001b[0mself\u001b[0m\u001b[0;34m.\u001b[0m\u001b[0m_parent_ident\u001b[0m\u001b[0;34m,\u001b[0m\u001b[0;34m\u001b[0m\u001b[0;34m\u001b[0m\u001b[0m\n\u001b[1;32m    703\u001b[0m             \u001b[0mself\u001b[0m\u001b[0;34m.\u001b[0m\u001b[0m_parent_header\u001b[0m\u001b[0;34m,\u001b[0m\u001b[0;34m\u001b[0m\u001b[0;34m\u001b[0m\u001b[0m\n\u001b[0;32m--> 704\u001b[0;31m             \u001b[0mpassword\u001b[0m\u001b[0;34m=\u001b[0m\u001b[0;32mFalse\u001b[0m\u001b[0;34m,\u001b[0m\u001b[0;34m\u001b[0m\u001b[0;34m\u001b[0m\u001b[0m\n\u001b[0m\u001b[1;32m    705\u001b[0m         )\n\u001b[1;32m    706\u001b[0m \u001b[0;34m\u001b[0m\u001b[0m\n",
            "\u001b[0;32m/usr/local/lib/python3.7/dist-packages/ipykernel/kernelbase.py\u001b[0m in \u001b[0;36m_input_request\u001b[0;34m(self, prompt, ident, parent, password)\u001b[0m\n\u001b[1;32m    732\u001b[0m             \u001b[0;32mexcept\u001b[0m \u001b[0mKeyboardInterrupt\u001b[0m\u001b[0;34m:\u001b[0m\u001b[0;34m\u001b[0m\u001b[0;34m\u001b[0m\u001b[0m\n\u001b[1;32m    733\u001b[0m                 \u001b[0;31m# re-raise KeyboardInterrupt, to truncate traceback\u001b[0m\u001b[0;34m\u001b[0m\u001b[0;34m\u001b[0m\u001b[0;34m\u001b[0m\u001b[0m\n\u001b[0;32m--> 734\u001b[0;31m                 \u001b[0;32mraise\u001b[0m \u001b[0mKeyboardInterrupt\u001b[0m\u001b[0;34m\u001b[0m\u001b[0;34m\u001b[0m\u001b[0m\n\u001b[0m\u001b[1;32m    735\u001b[0m             \u001b[0;32melse\u001b[0m\u001b[0;34m:\u001b[0m\u001b[0;34m\u001b[0m\u001b[0;34m\u001b[0m\u001b[0m\n\u001b[1;32m    736\u001b[0m                 \u001b[0;32mbreak\u001b[0m\u001b[0;34m\u001b[0m\u001b[0;34m\u001b[0m\u001b[0m\n",
            "\u001b[0;31mKeyboardInterrupt\u001b[0m: "
          ]
        }
      ]
    },
    {
      "cell_type": "code",
      "metadata": {
        "colab": {
          "base_uri": "https://localhost:8080/"
        },
        "id": "hw4VOque-Y_Q",
        "outputId": "8581f420-6384-4b6e-f401-d231dc858b1a"
      },
      "source": [
        "age = int(input(\"Enter your age:\"))\n",
        "name = input(\"Tell me your name:\")\n",
        "\n",
        "if (age == 22 and name == \"richard\"):\n",
        "  print(\"verified, you are richard\")\n",
        "else:\n",
        "  print(\"get out, you're not richard\")"
      ],
      "execution_count": null,
      "outputs": [
        {
          "output_type": "stream",
          "text": [
            "Enter your age:22\n",
            "Tell me your name:rii\n",
            "get out, you're not richard\n"
          ],
          "name": "stdout"
        }
      ]
    },
    {
      "cell_type": "code",
      "metadata": {
        "colab": {
          "base_uri": "https://localhost:8080/"
        },
        "id": "mw0NvQE1OL2Y",
        "outputId": "929a067a-800c-411b-b0ac-0375cfc3ce5d"
      },
      "source": [
        "print(True and True)\n",
        "print(True and False)\n",
        "print(False and True)\n",
        "print(False and False)"
      ],
      "execution_count": null,
      "outputs": [
        {
          "output_type": "stream",
          "text": [
            "True\n",
            "False\n",
            "False\n",
            "False\n"
          ],
          "name": "stdout"
        }
      ]
    },
    {
      "cell_type": "code",
      "metadata": {
        "colab": {
          "base_uri": "https://localhost:8080/"
        },
        "id": "CDLX07USO1AV",
        "outputId": "709d6d05-c057-44cf-8654-8cea2de626a0"
      },
      "source": [
        "print(True or True)\n",
        "print(True or False)\n",
        "print(False or True)\n",
        "print(False or False)"
      ],
      "execution_count": null,
      "outputs": [
        {
          "output_type": "stream",
          "text": [
            "True\n",
            "True\n",
            "True\n",
            "False\n"
          ],
          "name": "stdout"
        }
      ]
    },
    {
      "cell_type": "code",
      "metadata": {
        "colab": {
          "base_uri": "https://localhost:8080/"
        },
        "id": "49MQaZXRPC_w",
        "outputId": "992025fc-6e4f-4ae7-bf18-6b2e0e519325"
      },
      "source": [
        "print(not True)\n",
        "print(not False)"
      ],
      "execution_count": null,
      "outputs": [
        {
          "output_type": "stream",
          "text": [
            "False\n",
            "True\n"
          ],
          "name": "stdout"
        }
      ]
    },
    {
      "cell_type": "markdown",
      "metadata": {
        "id": "yXxhmYP_Um6v"
      },
      "source": [
        "## **Loops**"
      ]
    },
    {
      "cell_type": "code",
      "metadata": {
        "id": "c-hhIpyPUpxG"
      },
      "source": [
        "# initialization(0), end value, increment(1)\n",
        "for i in range(20):\n",
        "  print(i,\"Hello There!\")"
      ],
      "execution_count": null,
      "outputs": []
    },
    {
      "cell_type": "code",
      "metadata": {
        "colab": {
          "base_uri": "https://localhost:8080/"
        },
        "id": "ze1OIZOpZE9P",
        "outputId": "bc4524aa-2adc-4168-8439-499fbd4abd40"
      },
      "source": [
        "i = 0\n",
        "\n",
        "while (i < 3):\n",
        "  print(\"we are in a loop\")\n",
        "  i = i + 1"
      ],
      "execution_count": null,
      "outputs": [
        {
          "output_type": "stream",
          "text": [
            "we are in a loop\n",
            "we are in a loop\n",
            "we are in a loop\n"
          ],
          "name": "stdout"
        }
      ]
    },
    {
      "cell_type": "markdown",
      "metadata": {
        "id": "jUyGZfGGcOt1"
      },
      "source": [
        "## **Functions**"
      ]
    },
    {
      "cell_type": "code",
      "metadata": {
        "colab": {
          "base_uri": "https://localhost:8080/"
        },
        "id": "WI4XYegoa-nI",
        "outputId": "14d95822-79f0-4af5-f22d-d7480188c531"
      },
      "source": [
        "def square(x):\n",
        "  print(x*x)\n",
        "\n",
        "square(2)\n",
        "square(4)\n",
        "square(3)\n",
        "square(5)"
      ],
      "execution_count": null,
      "outputs": [
        {
          "output_type": "stream",
          "text": [
            "4\n",
            "16\n",
            "9\n",
            "25\n"
          ],
          "name": "stdout"
        }
      ]
    },
    {
      "cell_type": "code",
      "metadata": {
        "colab": {
          "base_uri": "https://localhost:8080/"
        },
        "id": "c4yNNP4UllQi",
        "outputId": "f907f9b7-1d60-4c7e-dcac-8d15d2a79e08"
      },
      "source": [
        "## Functions Without Arguments\n",
        "\n",
        "def greeting():\n",
        "  print(\"----------------------------\")\n",
        "  print(\"          Hello             \")\n",
        "  print(\"----------------------------\")\n",
        "\n",
        "greeting()"
      ],
      "execution_count": null,
      "outputs": [
        {
          "output_type": "stream",
          "text": [
            "----------------------------\n",
            "          Hello             \n",
            "----------------------------\n"
          ],
          "name": "stdout"
        }
      ]
    },
    {
      "cell_type": "code",
      "metadata": {
        "colab": {
          "base_uri": "https://localhost:8080/"
        },
        "id": "iWTgpkN6mQwZ",
        "outputId": "93304aac-30c3-489d-a8e7-5251111e862f"
      },
      "source": [
        "# Functions with arguments\n",
        "\n",
        "def sum(n1,n2):\n",
        "  total = n1 + n2\n",
        "  print(total)\n",
        "\n",
        "sum(n2=2,n1=5)"
      ],
      "execution_count": null,
      "outputs": [
        {
          "output_type": "stream",
          "text": [
            "2\n",
            "7\n"
          ],
          "name": "stdout"
        }
      ]
    },
    {
      "cell_type": "code",
      "metadata": {
        "colab": {
          "base_uri": "https://localhost:8080/"
        },
        "id": "h5u6us0ym7zK",
        "outputId": "64ce5f37-3c76-482f-a037-a90b6ba8e8c6"
      },
      "source": [
        "# Functions with arguments and return value\n",
        "\n",
        "def sum(n1,n2):\n",
        "  total = n1 + n2\n",
        "  return total\n",
        "\n",
        "print(sum(2,3))"
      ],
      "execution_count": null,
      "outputs": [
        {
          "output_type": "stream",
          "text": [
            "5\n"
          ],
          "name": "stdout"
        }
      ]
    },
    {
      "cell_type": "markdown",
      "metadata": {
        "id": "_qJhg1HhpUVq"
      },
      "source": [
        "## **String Operations**"
      ]
    },
    {
      "cell_type": "code",
      "metadata": {
        "colab": {
          "base_uri": "https://localhost:8080/"
        },
        "id": "wzMqDk55pNtU",
        "outputId": "874b6279-4ce0-4f9d-a23d-e33b438bf24e"
      },
      "source": [
        "a = \"Python is the Best Programming Language\"\n",
        "b = '   python   '\n",
        "print(a)\n",
        "print(b)"
      ],
      "execution_count": null,
      "outputs": [
        {
          "output_type": "stream",
          "text": [
            "Python is the Best Programming Language\n",
            "   python   \n"
          ],
          "name": "stdout"
        }
      ]
    },
    {
      "cell_type": "code",
      "metadata": {
        "colab": {
          "base_uri": "https://localhost:8080/"
        },
        "id": "72JMeKa6pntI",
        "outputId": "b5e21d9a-7b29-4b37-e60a-1d27c0c14b8e"
      },
      "source": [
        "print(len(a))\n",
        "print(len(b))"
      ],
      "execution_count": null,
      "outputs": [
        {
          "output_type": "stream",
          "text": [
            "39\n",
            "12\n"
          ],
          "name": "stdout"
        }
      ]
    },
    {
      "cell_type": "code",
      "metadata": {
        "id": "OWkULxNWrcVm"
      },
      "source": [
        " "
      ],
      "execution_count": null,
      "outputs": []
    },
    {
      "cell_type": "code",
      "metadata": {
        "colab": {
          "base_uri": "https://localhost:8080/"
        },
        "id": "_rvCjS1QqIUC",
        "outputId": "8150fa06-3293-45e3-f083-aeb70c23a38f"
      },
      "source": [
        "print(a.upper())\n",
        "print(a.lower())"
      ],
      "execution_count": null,
      "outputs": [
        {
          "output_type": "stream",
          "text": [
            "PYTHON IS THE BEST PROGRAMMING LANGUAGE\n",
            "python is the best programming language\n"
          ],
          "name": "stdout"
        }
      ]
    },
    {
      "cell_type": "code",
      "metadata": {
        "colab": {
          "base_uri": "https://localhost:8080/"
        },
        "id": "oIWTcb54rEZi",
        "outputId": "a29b059c-01a9-466b-88ca-2d1059e39125"
      },
      "source": [
        "print(b)\n",
        "print(b.strip())"
      ],
      "execution_count": null,
      "outputs": [
        {
          "output_type": "stream",
          "text": [
            "   python   \n",
            "python\n"
          ],
          "name": "stdout"
        }
      ]
    },
    {
      "cell_type": "code",
      "metadata": {
        "colab": {
          "base_uri": "https://localhost:8080/"
        },
        "id": "MVQBKrSprZI5",
        "outputId": "4d307ced-a7f5-463a-94ac-38bbdd649abb"
      },
      "source": [
        "a = a.replace(\"Best\",\"Perfect\")\n",
        "a = a.replace(\"the\",\"a\")\n",
        "print(a)"
      ],
      "execution_count": null,
      "outputs": [
        {
          "output_type": "stream",
          "text": [
            "Python is a Perfect Programming Language\n"
          ],
          "name": "stdout"
        }
      ]
    },
    {
      "cell_type": "code",
      "metadata": {
        "colab": {
          "base_uri": "https://localhost:8080/"
        },
        "id": "skaScYREr3qx",
        "outputId": "8d29eccb-a02e-4ff0-8d44-cf1651c195ac"
      },
      "source": [
        "if \"Py\" in a:\n",
        "  print(\"true\")\n",
        "else:\n",
        "  print(\"False\")"
      ],
      "execution_count": null,
      "outputs": [
        {
          "output_type": "stream",
          "text": [
            "False\n"
          ],
          "name": "stdout"
        }
      ]
    },
    {
      "cell_type": "code",
      "metadata": {
        "colab": {
          "base_uri": "https://localhost:8080/"
        },
        "id": "YMcdWUEWselJ",
        "outputId": "8fd5141d-03f8-4138-f93a-14f6c017b769"
      },
      "source": [
        "a = \"Richard\"\n",
        "b = \"Rozario\"\n",
        "\n",
        "print(a + \" \" + b)\n",
        "print(a * 5)"
      ],
      "execution_count": null,
      "outputs": [
        {
          "output_type": "stream",
          "text": [
            "Richard Rozario\n",
            "RichardRichardRichardRichardRichard\n"
          ],
          "name": "stdout"
        }
      ]
    },
    {
      "cell_type": "markdown",
      "metadata": {
        "id": "fNx1t-d_tElz"
      },
      "source": [
        "## **Lists**"
      ]
    },
    {
      "cell_type": "code",
      "metadata": {
        "colab": {
          "base_uri": "https://localhost:8080/"
        },
        "id": "60Ykik7YtxIg",
        "outputId": "8955503a-4328-427e-c081-26b5c285ef87"
      },
      "source": [
        "#    -5  -4  -3     -2       -1    Reverse Indexing\n",
        "l = [10, 20, 30, \"Richard\", 4.5]\n",
        "#    0    1   2     3        4     Forward Indexing\n",
        "print(l)"
      ],
      "execution_count": null,
      "outputs": [
        {
          "output_type": "stream",
          "text": [
            "[10, 20, 30, 'Richard', 4.5]\n"
          ],
          "name": "stdout"
        }
      ]
    },
    {
      "cell_type": "code",
      "metadata": {
        "id": "UKawM0O6uEVS"
      },
      "source": [
        "print(type(l))"
      ],
      "execution_count": null,
      "outputs": []
    },
    {
      "cell_type": "code",
      "metadata": {
        "id": "uyoWC7dZuNZG"
      },
      "source": [
        "print(l[-5])"
      ],
      "execution_count": null,
      "outputs": []
    },
    {
      "cell_type": "code",
      "metadata": {
        "colab": {
          "base_uri": "https://localhost:8080/"
        },
        "id": "AS5wE1DovHJp",
        "outputId": "fe1363d8-c900-4724-9ecf-f9156c0f4e55"
      },
      "source": [
        "print(l[0:3])\n",
        "print(l[1:4])\n",
        "print(l[2:0])\n",
        "print(l[:2])"
      ],
      "execution_count": null,
      "outputs": [
        {
          "output_type": "stream",
          "text": [
            "[10, 20, 30]\n",
            "[20, 30, 'Richard']\n",
            "[30, 'Richard', 4.5]\n",
            "[10, 20]\n"
          ],
          "name": "stdout"
        }
      ]
    },
    {
      "cell_type": "code",
      "metadata": {
        "colab": {
          "base_uri": "https://localhost:8080/"
        },
        "id": "C06tPbBlwwtD",
        "outputId": "e4978327-3ee2-4c72-fe1a-f3aa62ed001b"
      },
      "source": [
        "print(l[-4:-1])\n",
        "print(l[-3:4])"
      ],
      "execution_count": null,
      "outputs": [
        {
          "output_type": "stream",
          "text": [
            "[20, 30, 'Richard']\n",
            "[30, 'Richard']\n"
          ],
          "name": "stdout"
        }
      ]
    },
    {
      "cell_type": "code",
      "metadata": {
        "colab": {
          "base_uri": "https://localhost:8080/"
        },
        "id": "bE4CkiZJxd5Q",
        "outputId": "c1bac551-58b7-4517-a3f5-3dee23c3c69e"
      },
      "source": [
        "l.append(\"Hello\")\n",
        "print(l)"
      ],
      "execution_count": null,
      "outputs": [
        {
          "output_type": "stream",
          "text": [
            "[10, 20, 30, 'Richard', 4.5, 'Hello', 'Hello']\n"
          ],
          "name": "stdout"
        }
      ]
    },
    {
      "cell_type": "code",
      "metadata": {
        "id": "11-sNgNbxwH6"
      },
      "source": [
        "l.pop()\n",
        "print(l)"
      ],
      "execution_count": null,
      "outputs": []
    },
    {
      "cell_type": "code",
      "metadata": {
        "id": "scz_Hrp0yRkA"
      },
      "source": [
        "l = [29, 47, 85, 12, 94, 6]"
      ],
      "execution_count": null,
      "outputs": []
    },
    {
      "cell_type": "code",
      "metadata": {
        "colab": {
          "base_uri": "https://localhost:8080/"
        },
        "id": "xrMZguM7x_U3",
        "outputId": "3aec9b5f-2519-433b-f2f2-89187022d683"
      },
      "source": [
        "l.sort()\n",
        "print(l)\n",
        "\n",
        "l.sort(reverse=True)\n",
        "print(l)\n",
        "\n",
        "l.reverse()\n",
        "print(l)"
      ],
      "execution_count": null,
      "outputs": [
        {
          "output_type": "stream",
          "text": [
            "[6, 12, 29, 47, 85, 94]\n",
            "[94, 85, 47, 29, 12, 6]\n",
            "[6, 12, 29, 47, 85, 94]\n"
          ],
          "name": "stdout"
        }
      ]
    },
    {
      "cell_type": "code",
      "metadata": {
        "colab": {
          "base_uri": "https://localhost:8080/"
        },
        "id": "CN2wyTE1zx6g",
        "outputId": "28904ad9-11af-4257-8840-63c3fee6dd6f"
      },
      "source": [
        "len(l)"
      ],
      "execution_count": null,
      "outputs": [
        {
          "output_type": "execute_result",
          "data": {
            "text/plain": [
              "6"
            ]
          },
          "metadata": {
            "tags": []
          },
          "execution_count": 110
        }
      ]
    },
    {
      "cell_type": "markdown",
      "metadata": {
        "id": "SvDqI_-WzKOv"
      },
      "source": [
        "## **Tuples**"
      ]
    },
    {
      "cell_type": "code",
      "metadata": {
        "colab": {
          "base_uri": "https://localhost:8080/"
        },
        "id": "VPohit7SzM4o",
        "outputId": "c55e1788-815e-4b37-a83e-64de3c5c2a43"
      },
      "source": [
        "t = (10, 20, 30, 7 , 4.5)\n",
        "print(type(t))"
      ],
      "execution_count": null,
      "outputs": [
        {
          "output_type": "stream",
          "text": [
            "<class 'tuple'>\n"
          ],
          "name": "stdout"
        }
      ]
    },
    {
      "cell_type": "code",
      "metadata": {
        "colab": {
          "base_uri": "https://localhost:8080/"
        },
        "id": "jxEmcCQ-zsm3",
        "outputId": "a80c25f2-307f-4389-a438-2e7a875c749d"
      },
      "source": [
        "print(len(t))\n",
        "print(min(t))\n",
        "print(max(t))"
      ],
      "execution_count": null,
      "outputs": [
        {
          "output_type": "stream",
          "text": [
            "5\n",
            "4.5\n",
            "30\n"
          ],
          "name": "stdout"
        }
      ]
    },
    {
      "cell_type": "code",
      "metadata": {
        "colab": {
          "base_uri": "https://localhost:8080/"
        },
        "id": "pSF9hrYJz9P_",
        "outputId": "9f0b68b5-5d2e-4834-aca9-2e232fdfe000"
      },
      "source": [
        "print(t[0:3])\n",
        "print(t[-4:])"
      ],
      "execution_count": null,
      "outputs": [
        {
          "output_type": "stream",
          "text": [
            "(10, 20, 30)\n",
            "(20, 30, 7, 4.5)\n"
          ],
          "name": "stdout"
        }
      ]
    },
    {
      "cell_type": "code",
      "metadata": {
        "id": "jnd_8Wtw0M8H"
      },
      "source": [
        "t.append()"
      ],
      "execution_count": null,
      "outputs": []
    },
    {
      "cell_type": "markdown",
      "metadata": {
        "id": "5qiTVSNx0fSK"
      },
      "source": [
        "## **dictionary**"
      ]
    },
    {
      "cell_type": "code",
      "metadata": {
        "colab": {
          "base_uri": "https://localhost:8080/"
        },
        "id": "e_UaPuL20mzv",
        "outputId": "90c71fb0-a7ba-4214-f9f9-bdd7493973ea"
      },
      "source": [
        "d = {\"one\":\"Earth\",\n",
        "     \"two\":\"Mars\",\n",
        "     \"three\":\"Venus\"}\n",
        "\n",
        "print(type(d))"
      ],
      "execution_count": null,
      "outputs": [
        {
          "output_type": "stream",
          "text": [
            "<class 'dict'>\n"
          ],
          "name": "stdout"
        }
      ]
    },
    {
      "cell_type": "code",
      "metadata": {
        "colab": {
          "base_uri": "https://localhost:8080/"
        },
        "id": "ZhaD0Yuo1EQ2",
        "outputId": "5ea6e166-bcbc-44d4-b75f-f937752bc49f"
      },
      "source": [
        "print(d[\"three\"])"
      ],
      "execution_count": null,
      "outputs": [
        {
          "output_type": "stream",
          "text": [
            "Venus\n"
          ],
          "name": "stdout"
        }
      ]
    },
    {
      "cell_type": "code",
      "metadata": {
        "colab": {
          "base_uri": "https://localhost:8080/"
        },
        "id": "EYE8avqS1zyQ",
        "outputId": "755d18d8-3417-456c-f51f-f219f19a29a4"
      },
      "source": [
        "for k in d:\n",
        "  print(k)\n",
        "  print(d[k])"
      ],
      "execution_count": null,
      "outputs": [
        {
          "output_type": "stream",
          "text": [
            "one\n",
            "Earth\n",
            "two\n",
            "Mars\n",
            "three\n",
            "Venus\n"
          ],
          "name": "stdout"
        }
      ]
    },
    {
      "cell_type": "code",
      "metadata": {
        "colab": {
          "base_uri": "https://localhost:8080/"
        },
        "id": "RgrQn-jt2PPe",
        "outputId": "b9224daf-6816-47a5-8ac0-de722af79964"
      },
      "source": [
        "d[\"two\"] = \"mars\"\n",
        "d[\"four\"] = \"mars\"\n",
        "print(d)"
      ],
      "execution_count": null,
      "outputs": [
        {
          "output_type": "stream",
          "text": [
            "{'one': 'Earth', 'three': 'Venus', 'two': 'mars', 'four': 'mars'}\n"
          ],
          "name": "stdout"
        }
      ]
    },
    {
      "cell_type": "code",
      "metadata": {
        "colab": {
          "base_uri": "https://localhost:8080/"
        },
        "id": "o-jExZxx2wT-",
        "outputId": "69b62b0c-c72c-4db4-8c9b-27b905aee12f"
      },
      "source": [
        "d.pop('four')\n",
        "print(d)"
      ],
      "execution_count": null,
      "outputs": [
        {
          "output_type": "stream",
          "text": [
            "{'one': 'Earth', 'three': 'Venus', 'two': 'mars'}\n"
          ],
          "name": "stdout"
        }
      ]
    },
    {
      "cell_type": "markdown",
      "metadata": {
        "id": "vEuXSgkO3Ok9"
      },
      "source": [
        "##**Exception Handiling**"
      ]
    },
    {
      "cell_type": "code",
      "metadata": {
        "colab": {
          "base_uri": "https://localhost:8080/"
        },
        "id": "EgKwsioy3NWM",
        "outputId": "136781a0-0475-425e-e481-7ba6f73d6027"
      },
      "source": [
        "print(\"welcome\")\n",
        "rand = 300\n",
        "try:\n",
        "  print(rand)\n",
        "\n",
        "except:\n",
        "  print(\"the error has been silenced\")"
      ],
      "execution_count": null,
      "outputs": [
        {
          "output_type": "stream",
          "text": [
            "welcome\n",
            "300\n"
          ],
          "name": "stdout"
        }
      ]
    },
    {
      "cell_type": "code",
      "metadata": {
        "colab": {
          "base_uri": "https://localhost:8080/"
        },
        "id": "GT4yPWeb4c1B",
        "outputId": "6be715b5-5819-4b13-9a2a-6089a5e2bce3"
      },
      "source": [
        "z = 10\n",
        "try:\n",
        "  print(z)\n",
        "\n",
        "except:\n",
        "  print(\"the error has been silenced\")\n",
        "\n",
        "finally:\n",
        "  print(\"done cheking for errors\")"
      ],
      "execution_count": null,
      "outputs": [
        {
          "output_type": "stream",
          "text": [
            "10\n",
            "done cheking for errors\n"
          ],
          "name": "stdout"
        }
      ]
    }
  ]
}